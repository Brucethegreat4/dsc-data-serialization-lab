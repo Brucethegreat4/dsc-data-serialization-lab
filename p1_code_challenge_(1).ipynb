{
  "cells": [
    {
      "cell_type": "markdown",
      "metadata": {
        "id": "view-in-github",
        "colab_type": "text"
      },
      "source": [
        "<a href=\"https://colab.research.google.com/github/Brucethegreat4/dsc-data-serialization-lab/blob/master/p1_code_challenge_(1).ipynb\" target=\"_parent\"><img src=\"https://colab.research.google.com/assets/colab-badge.svg\" alt=\"Open In Colab\"/></a>"
      ]
    },
    {
      "cell_type": "markdown",
      "metadata": {
        "nbgrader": {
          "grade": false,
          "grade_id": "cell-1dc8c072d516f820",
          "locked": true,
          "schema_version": 3,
          "solution": false,
          "task": false
        },
        "id": "_C0GQ8puSUdr"
      },
      "source": [
        "# Phase 1 Code Challenge\n",
        "This code challenge is designed to test your understanding of the Phase 1 material. It covers:\n",
        "\n",
        "- Pandas\n",
        "- Data Visualization\n",
        "- Exploring Statistical Data\n",
        "- Python Data Structures\n",
        "\n",
        "*Read the instructions carefully.* Your code will need to meet detailed specifications to pass automated tests.\n",
        "\n",
        "## Code Tests\n",
        "\n",
        "We have provided some code tests for you to run to check that your work meets the item specifications. Passing these tests does not necessarily mean that you have gotten the item correct - there are additional hidden tests. However, if any of the tests do not pass, this tells you that your code is incorrect and needs changes to meet the specification. To determine what the issue is, read the comments in the code test cells, the error message you receive, and the item instructions."
      ]
    },
    {
      "cell_type": "markdown",
      "metadata": {
        "nbgrader": {
          "grade": false,
          "grade_id": "cell-9cdee0770b4e45d9",
          "locked": true,
          "schema_version": 3,
          "solution": false,
          "task": false
        },
        "id": "OHratUo6SUdv"
      },
      "source": [
        "---\n",
        "## Part 1: Pandas [Suggested Time: 15 minutes]\n",
        "---\n",
        "In this part, you will preprocess a dataset from the video game [FIFA19](https://www.kaggle.com/karangadiya/fifa19), which contains data from the players' real-life careers."
      ]
    },
    {
      "cell_type": "code",
      "execution_count": 19,
      "metadata": {
        "nbgrader": {
          "grade": false,
          "grade_id": "cell-6b5542e3f39ef221",
          "locked": true,
          "schema_version": 3,
          "solution": false,
          "task": false
        },
        "id": "DvyVcUODSUdw"
      },
      "outputs": [],
      "source": [
        "# Run this cell without changes\n",
        "\n",
        "import pandas as pd\n",
        "import numpy as np\n",
        "from numbers import Number\n",
        "import warnings\n",
        "warnings.filterwarnings('ignore')"
      ]
    },
    {
      "cell_type": "markdown",
      "metadata": {
        "nbgrader": {
          "grade": false,
          "grade_id": "cell-b9b25e040991b1e6",
          "locked": true,
          "schema_version": 3,
          "solution": false,
          "task": false
        },
        "id": "7peIMaPmSUdx"
      },
      "source": [
        "### 1.1) Read `fifa.csv` into a pandas DataFrame named `df`\n",
        "\n",
        "Use pandas to create a new DataFrame, called `df`, containing the data from the dataset in the file `fifa.csv` in the folder containing this notebook.\n",
        "\n",
        "Hint: Use the string `'./fifa.csv'` as the file reference."
      ]
    },
    {
      "cell_type": "code",
      "execution_count": 21,
      "metadata": {
        "nbgrader": {
          "grade": false,
          "grade_id": "cell-18fbca9dcea2ebbd",
          "locked": true,
          "schema_version": 3,
          "solution": false,
          "task": false
        },
        "id": "SkMZBDFzSUdy"
      },
      "outputs": [],
      "source": [
        "# CodeGrade step1.1\n",
        "# Replace None with appropriate code\n",
        "\n",
        "df = pd.read_csv('fifa.csv')"
      ]
    },
    {
      "cell_type": "code",
      "execution_count": 22,
      "metadata": {
        "id": "lg1dqpufSUdy"
      },
      "outputs": [],
      "source": [
        "# This test confirms that you have created a DataFrame named df\n",
        "\n",
        "assert type(df) == pd.DataFrame"
      ]
    },
    {
      "cell_type": "code",
      "source": [
        "df.head()"
      ],
      "metadata": {
        "colab": {
          "base_uri": "https://localhost:8080/",
          "height": 360
        },
        "id": "ngqh5QeglKua",
        "outputId": "e6e0852b-0d7a-47da-be67-156ae1e98d2b"
      },
      "execution_count": 23,
      "outputs": [
        {
          "output_type": "execute_result",
          "data": {
            "text/plain": [
              "       ID               Name  Age  \\\n",
              "0  158023           L. Messi   31   \n",
              "1   20801  Cristiano Ronaldo   33   \n",
              "2  190871          Neymar Jr   26   \n",
              "3  193080             De Gea   27   \n",
              "4  192985       K. De Bruyne   27   \n",
              "\n",
              "                                            Photo Nationality  \\\n",
              "0  https://cdn.sofifa.org/players/4/19/158023.png   Argentina   \n",
              "1   https://cdn.sofifa.org/players/4/19/20801.png    Portugal   \n",
              "2  https://cdn.sofifa.org/players/4/19/190871.png      Brazil   \n",
              "3  https://cdn.sofifa.org/players/4/19/193080.png       Spain   \n",
              "4  https://cdn.sofifa.org/players/4/19/192985.png     Belgium   \n",
              "\n",
              "                                  Flag  Overall  Potential  \\\n",
              "0  https://cdn.sofifa.org/flags/52.png       94         94   \n",
              "1  https://cdn.sofifa.org/flags/38.png       94         94   \n",
              "2  https://cdn.sofifa.org/flags/54.png       92         93   \n",
              "3  https://cdn.sofifa.org/flags/45.png       91         93   \n",
              "4   https://cdn.sofifa.org/flags/7.png       91         92   \n",
              "\n",
              "                  Club                                     Club Logo  ...  \\\n",
              "0         FC Barcelona  https://cdn.sofifa.org/teams/2/light/241.png  ...   \n",
              "1             Juventus   https://cdn.sofifa.org/teams/2/light/45.png  ...   \n",
              "2  Paris Saint-Germain   https://cdn.sofifa.org/teams/2/light/73.png  ...   \n",
              "3    Manchester United   https://cdn.sofifa.org/teams/2/light/11.png  ...   \n",
              "4      Manchester City   https://cdn.sofifa.org/teams/2/light/10.png  ...   \n",
              "\n",
              "  Composure Marking  StandingTackle SlidingTackle  GKDiving  GKHandling  \\\n",
              "0      96.0    33.0            28.0          26.0       6.0        11.0   \n",
              "1      95.0    28.0            31.0          23.0       7.0        11.0   \n",
              "2      94.0    27.0            24.0          33.0       9.0         9.0   \n",
              "3      68.0    15.0            21.0          13.0      90.0        85.0   \n",
              "4      88.0    68.0            58.0          51.0      15.0        13.0   \n",
              "\n",
              "   GKKicking GKPositioning GKReflexes Release Clause  \n",
              "0       15.0          14.0        8.0       226500.0  \n",
              "1       15.0          14.0       11.0       127100.0  \n",
              "2       15.0          15.0       11.0       228100.0  \n",
              "3       87.0          88.0       94.0       138600.0  \n",
              "4        5.0          10.0       13.0       196400.0  \n",
              "\n",
              "[5 rows x 88 columns]"
            ],
            "text/html": [
              "\n",
              "  <div id=\"df-9ea811ab-25e5-40cd-80ab-da472410157a\" class=\"colab-df-container\">\n",
              "    <div>\n",
              "<style scoped>\n",
              "    .dataframe tbody tr th:only-of-type {\n",
              "        vertical-align: middle;\n",
              "    }\n",
              "\n",
              "    .dataframe tbody tr th {\n",
              "        vertical-align: top;\n",
              "    }\n",
              "\n",
              "    .dataframe thead th {\n",
              "        text-align: right;\n",
              "    }\n",
              "</style>\n",
              "<table border=\"1\" class=\"dataframe\">\n",
              "  <thead>\n",
              "    <tr style=\"text-align: right;\">\n",
              "      <th></th>\n",
              "      <th>ID</th>\n",
              "      <th>Name</th>\n",
              "      <th>Age</th>\n",
              "      <th>Photo</th>\n",
              "      <th>Nationality</th>\n",
              "      <th>Flag</th>\n",
              "      <th>Overall</th>\n",
              "      <th>Potential</th>\n",
              "      <th>Club</th>\n",
              "      <th>Club Logo</th>\n",
              "      <th>...</th>\n",
              "      <th>Composure</th>\n",
              "      <th>Marking</th>\n",
              "      <th>StandingTackle</th>\n",
              "      <th>SlidingTackle</th>\n",
              "      <th>GKDiving</th>\n",
              "      <th>GKHandling</th>\n",
              "      <th>GKKicking</th>\n",
              "      <th>GKPositioning</th>\n",
              "      <th>GKReflexes</th>\n",
              "      <th>Release Clause</th>\n",
              "    </tr>\n",
              "  </thead>\n",
              "  <tbody>\n",
              "    <tr>\n",
              "      <th>0</th>\n",
              "      <td>158023</td>\n",
              "      <td>L. Messi</td>\n",
              "      <td>31</td>\n",
              "      <td>https://cdn.sofifa.org/players/4/19/158023.png</td>\n",
              "      <td>Argentina</td>\n",
              "      <td>https://cdn.sofifa.org/flags/52.png</td>\n",
              "      <td>94</td>\n",
              "      <td>94</td>\n",
              "      <td>FC Barcelona</td>\n",
              "      <td>https://cdn.sofifa.org/teams/2/light/241.png</td>\n",
              "      <td>...</td>\n",
              "      <td>96.0</td>\n",
              "      <td>33.0</td>\n",
              "      <td>28.0</td>\n",
              "      <td>26.0</td>\n",
              "      <td>6.0</td>\n",
              "      <td>11.0</td>\n",
              "      <td>15.0</td>\n",
              "      <td>14.0</td>\n",
              "      <td>8.0</td>\n",
              "      <td>226500.0</td>\n",
              "    </tr>\n",
              "    <tr>\n",
              "      <th>1</th>\n",
              "      <td>20801</td>\n",
              "      <td>Cristiano Ronaldo</td>\n",
              "      <td>33</td>\n",
              "      <td>https://cdn.sofifa.org/players/4/19/20801.png</td>\n",
              "      <td>Portugal</td>\n",
              "      <td>https://cdn.sofifa.org/flags/38.png</td>\n",
              "      <td>94</td>\n",
              "      <td>94</td>\n",
              "      <td>Juventus</td>\n",
              "      <td>https://cdn.sofifa.org/teams/2/light/45.png</td>\n",
              "      <td>...</td>\n",
              "      <td>95.0</td>\n",
              "      <td>28.0</td>\n",
              "      <td>31.0</td>\n",
              "      <td>23.0</td>\n",
              "      <td>7.0</td>\n",
              "      <td>11.0</td>\n",
              "      <td>15.0</td>\n",
              "      <td>14.0</td>\n",
              "      <td>11.0</td>\n",
              "      <td>127100.0</td>\n",
              "    </tr>\n",
              "    <tr>\n",
              "      <th>2</th>\n",
              "      <td>190871</td>\n",
              "      <td>Neymar Jr</td>\n",
              "      <td>26</td>\n",
              "      <td>https://cdn.sofifa.org/players/4/19/190871.png</td>\n",
              "      <td>Brazil</td>\n",
              "      <td>https://cdn.sofifa.org/flags/54.png</td>\n",
              "      <td>92</td>\n",
              "      <td>93</td>\n",
              "      <td>Paris Saint-Germain</td>\n",
              "      <td>https://cdn.sofifa.org/teams/2/light/73.png</td>\n",
              "      <td>...</td>\n",
              "      <td>94.0</td>\n",
              "      <td>27.0</td>\n",
              "      <td>24.0</td>\n",
              "      <td>33.0</td>\n",
              "      <td>9.0</td>\n",
              "      <td>9.0</td>\n",
              "      <td>15.0</td>\n",
              "      <td>15.0</td>\n",
              "      <td>11.0</td>\n",
              "      <td>228100.0</td>\n",
              "    </tr>\n",
              "    <tr>\n",
              "      <th>3</th>\n",
              "      <td>193080</td>\n",
              "      <td>De Gea</td>\n",
              "      <td>27</td>\n",
              "      <td>https://cdn.sofifa.org/players/4/19/193080.png</td>\n",
              "      <td>Spain</td>\n",
              "      <td>https://cdn.sofifa.org/flags/45.png</td>\n",
              "      <td>91</td>\n",
              "      <td>93</td>\n",
              "      <td>Manchester United</td>\n",
              "      <td>https://cdn.sofifa.org/teams/2/light/11.png</td>\n",
              "      <td>...</td>\n",
              "      <td>68.0</td>\n",
              "      <td>15.0</td>\n",
              "      <td>21.0</td>\n",
              "      <td>13.0</td>\n",
              "      <td>90.0</td>\n",
              "      <td>85.0</td>\n",
              "      <td>87.0</td>\n",
              "      <td>88.0</td>\n",
              "      <td>94.0</td>\n",
              "      <td>138600.0</td>\n",
              "    </tr>\n",
              "    <tr>\n",
              "      <th>4</th>\n",
              "      <td>192985</td>\n",
              "      <td>K. De Bruyne</td>\n",
              "      <td>27</td>\n",
              "      <td>https://cdn.sofifa.org/players/4/19/192985.png</td>\n",
              "      <td>Belgium</td>\n",
              "      <td>https://cdn.sofifa.org/flags/7.png</td>\n",
              "      <td>91</td>\n",
              "      <td>92</td>\n",
              "      <td>Manchester City</td>\n",
              "      <td>https://cdn.sofifa.org/teams/2/light/10.png</td>\n",
              "      <td>...</td>\n",
              "      <td>88.0</td>\n",
              "      <td>68.0</td>\n",
              "      <td>58.0</td>\n",
              "      <td>51.0</td>\n",
              "      <td>15.0</td>\n",
              "      <td>13.0</td>\n",
              "      <td>5.0</td>\n",
              "      <td>10.0</td>\n",
              "      <td>13.0</td>\n",
              "      <td>196400.0</td>\n",
              "    </tr>\n",
              "  </tbody>\n",
              "</table>\n",
              "<p>5 rows × 88 columns</p>\n",
              "</div>\n",
              "    <div class=\"colab-df-buttons\">\n",
              "\n",
              "  <div class=\"colab-df-container\">\n",
              "    <button class=\"colab-df-convert\" onclick=\"convertToInteractive('df-9ea811ab-25e5-40cd-80ab-da472410157a')\"\n",
              "            title=\"Convert this dataframe to an interactive table.\"\n",
              "            style=\"display:none;\">\n",
              "\n",
              "  <svg xmlns=\"http://www.w3.org/2000/svg\" height=\"24px\" viewBox=\"0 -960 960 960\">\n",
              "    <path d=\"M120-120v-720h720v720H120Zm60-500h600v-160H180v160Zm220 220h160v-160H400v160Zm0 220h160v-160H400v160ZM180-400h160v-160H180v160Zm440 0h160v-160H620v160ZM180-180h160v-160H180v160Zm440 0h160v-160H620v160Z\"/>\n",
              "  </svg>\n",
              "    </button>\n",
              "\n",
              "  <style>\n",
              "    .colab-df-container {\n",
              "      display:flex;\n",
              "      gap: 12px;\n",
              "    }\n",
              "\n",
              "    .colab-df-convert {\n",
              "      background-color: #E8F0FE;\n",
              "      border: none;\n",
              "      border-radius: 50%;\n",
              "      cursor: pointer;\n",
              "      display: none;\n",
              "      fill: #1967D2;\n",
              "      height: 32px;\n",
              "      padding: 0 0 0 0;\n",
              "      width: 32px;\n",
              "    }\n",
              "\n",
              "    .colab-df-convert:hover {\n",
              "      background-color: #E2EBFA;\n",
              "      box-shadow: 0px 1px 2px rgba(60, 64, 67, 0.3), 0px 1px 3px 1px rgba(60, 64, 67, 0.15);\n",
              "      fill: #174EA6;\n",
              "    }\n",
              "\n",
              "    .colab-df-buttons div {\n",
              "      margin-bottom: 4px;\n",
              "    }\n",
              "\n",
              "    [theme=dark] .colab-df-convert {\n",
              "      background-color: #3B4455;\n",
              "      fill: #D2E3FC;\n",
              "    }\n",
              "\n",
              "    [theme=dark] .colab-df-convert:hover {\n",
              "      background-color: #434B5C;\n",
              "      box-shadow: 0px 1px 3px 1px rgba(0, 0, 0, 0.15);\n",
              "      filter: drop-shadow(0px 1px 2px rgba(0, 0, 0, 0.3));\n",
              "      fill: #FFFFFF;\n",
              "    }\n",
              "  </style>\n",
              "\n",
              "    <script>\n",
              "      const buttonEl =\n",
              "        document.querySelector('#df-9ea811ab-25e5-40cd-80ab-da472410157a button.colab-df-convert');\n",
              "      buttonEl.style.display =\n",
              "        google.colab.kernel.accessAllowed ? 'block' : 'none';\n",
              "\n",
              "      async function convertToInteractive(key) {\n",
              "        const element = document.querySelector('#df-9ea811ab-25e5-40cd-80ab-da472410157a');\n",
              "        const dataTable =\n",
              "          await google.colab.kernel.invokeFunction('convertToInteractive',\n",
              "                                                    [key], {});\n",
              "        if (!dataTable) return;\n",
              "\n",
              "        const docLinkHtml = 'Like what you see? Visit the ' +\n",
              "          '<a target=\"_blank\" href=https://colab.research.google.com/notebooks/data_table.ipynb>data table notebook</a>'\n",
              "          + ' to learn more about interactive tables.';\n",
              "        element.innerHTML = '';\n",
              "        dataTable['output_type'] = 'display_data';\n",
              "        await google.colab.output.renderOutput(dataTable, element);\n",
              "        const docLink = document.createElement('div');\n",
              "        docLink.innerHTML = docLinkHtml;\n",
              "        element.appendChild(docLink);\n",
              "      }\n",
              "    </script>\n",
              "  </div>\n",
              "\n",
              "\n",
              "<div id=\"df-8814ee27-92b5-44da-bb3e-7951ebcaf768\">\n",
              "  <button class=\"colab-df-quickchart\" onclick=\"quickchart('df-8814ee27-92b5-44da-bb3e-7951ebcaf768')\"\n",
              "            title=\"Suggest charts\"\n",
              "            style=\"display:none;\">\n",
              "\n",
              "<svg xmlns=\"http://www.w3.org/2000/svg\" height=\"24px\"viewBox=\"0 0 24 24\"\n",
              "     width=\"24px\">\n",
              "    <g>\n",
              "        <path d=\"M19 3H5c-1.1 0-2 .9-2 2v14c0 1.1.9 2 2 2h14c1.1 0 2-.9 2-2V5c0-1.1-.9-2-2-2zM9 17H7v-7h2v7zm4 0h-2V7h2v10zm4 0h-2v-4h2v4z\"/>\n",
              "    </g>\n",
              "</svg>\n",
              "  </button>\n",
              "\n",
              "<style>\n",
              "  .colab-df-quickchart {\n",
              "      --bg-color: #E8F0FE;\n",
              "      --fill-color: #1967D2;\n",
              "      --hover-bg-color: #E2EBFA;\n",
              "      --hover-fill-color: #174EA6;\n",
              "      --disabled-fill-color: #AAA;\n",
              "      --disabled-bg-color: #DDD;\n",
              "  }\n",
              "\n",
              "  [theme=dark] .colab-df-quickchart {\n",
              "      --bg-color: #3B4455;\n",
              "      --fill-color: #D2E3FC;\n",
              "      --hover-bg-color: #434B5C;\n",
              "      --hover-fill-color: #FFFFFF;\n",
              "      --disabled-bg-color: #3B4455;\n",
              "      --disabled-fill-color: #666;\n",
              "  }\n",
              "\n",
              "  .colab-df-quickchart {\n",
              "    background-color: var(--bg-color);\n",
              "    border: none;\n",
              "    border-radius: 50%;\n",
              "    cursor: pointer;\n",
              "    display: none;\n",
              "    fill: var(--fill-color);\n",
              "    height: 32px;\n",
              "    padding: 0;\n",
              "    width: 32px;\n",
              "  }\n",
              "\n",
              "  .colab-df-quickchart:hover {\n",
              "    background-color: var(--hover-bg-color);\n",
              "    box-shadow: 0 1px 2px rgba(60, 64, 67, 0.3), 0 1px 3px 1px rgba(60, 64, 67, 0.15);\n",
              "    fill: var(--button-hover-fill-color);\n",
              "  }\n",
              "\n",
              "  .colab-df-quickchart-complete:disabled,\n",
              "  .colab-df-quickchart-complete:disabled:hover {\n",
              "    background-color: var(--disabled-bg-color);\n",
              "    fill: var(--disabled-fill-color);\n",
              "    box-shadow: none;\n",
              "  }\n",
              "\n",
              "  .colab-df-spinner {\n",
              "    border: 2px solid var(--fill-color);\n",
              "    border-color: transparent;\n",
              "    border-bottom-color: var(--fill-color);\n",
              "    animation:\n",
              "      spin 1s steps(1) infinite;\n",
              "  }\n",
              "\n",
              "  @keyframes spin {\n",
              "    0% {\n",
              "      border-color: transparent;\n",
              "      border-bottom-color: var(--fill-color);\n",
              "      border-left-color: var(--fill-color);\n",
              "    }\n",
              "    20% {\n",
              "      border-color: transparent;\n",
              "      border-left-color: var(--fill-color);\n",
              "      border-top-color: var(--fill-color);\n",
              "    }\n",
              "    30% {\n",
              "      border-color: transparent;\n",
              "      border-left-color: var(--fill-color);\n",
              "      border-top-color: var(--fill-color);\n",
              "      border-right-color: var(--fill-color);\n",
              "    }\n",
              "    40% {\n",
              "      border-color: transparent;\n",
              "      border-right-color: var(--fill-color);\n",
              "      border-top-color: var(--fill-color);\n",
              "    }\n",
              "    60% {\n",
              "      border-color: transparent;\n",
              "      border-right-color: var(--fill-color);\n",
              "    }\n",
              "    80% {\n",
              "      border-color: transparent;\n",
              "      border-right-color: var(--fill-color);\n",
              "      border-bottom-color: var(--fill-color);\n",
              "    }\n",
              "    90% {\n",
              "      border-color: transparent;\n",
              "      border-bottom-color: var(--fill-color);\n",
              "    }\n",
              "  }\n",
              "</style>\n",
              "\n",
              "  <script>\n",
              "    async function quickchart(key) {\n",
              "      const quickchartButtonEl =\n",
              "        document.querySelector('#' + key + ' button');\n",
              "      quickchartButtonEl.disabled = true;  // To prevent multiple clicks.\n",
              "      quickchartButtonEl.classList.add('colab-df-spinner');\n",
              "      try {\n",
              "        const charts = await google.colab.kernel.invokeFunction(\n",
              "            'suggestCharts', [key], {});\n",
              "      } catch (error) {\n",
              "        console.error('Error during call to suggestCharts:', error);\n",
              "      }\n",
              "      quickchartButtonEl.classList.remove('colab-df-spinner');\n",
              "      quickchartButtonEl.classList.add('colab-df-quickchart-complete');\n",
              "    }\n",
              "    (() => {\n",
              "      let quickchartButtonEl =\n",
              "        document.querySelector('#df-8814ee27-92b5-44da-bb3e-7951ebcaf768 button');\n",
              "      quickchartButtonEl.style.display =\n",
              "        google.colab.kernel.accessAllowed ? 'block' : 'none';\n",
              "    })();\n",
              "  </script>\n",
              "</div>\n",
              "\n",
              "    </div>\n",
              "  </div>\n"
            ],
            "application/vnd.google.colaboratory.intrinsic+json": {
              "type": "dataframe",
              "variable_name": "df"
            }
          },
          "metadata": {},
          "execution_count": 23
        }
      ]
    },
    {
      "cell_type": "markdown",
      "metadata": {
        "nbgrader": {
          "grade": false,
          "grade_id": "cell-42ef866849a4d833",
          "locked": true,
          "schema_version": 3,
          "solution": false,
          "task": false
        },
        "id": "TX_YZ0VnSUdz"
      },
      "source": [
        "### 1.2) Convert the `'Release Clause'` values from Euros to dollars\n",
        "\n",
        "The `'Release Clause'` variable contains prices denominated in Euros. Use the exchange rate `1 Euro = 1.2 Dollars` to convert the prices to dollars."
      ]
    },
    {
      "cell_type": "code",
      "execution_count": 26,
      "metadata": {
        "id": "21PzFPxPSUdz"
      },
      "outputs": [],
      "source": [
        "# CodeGrade step1.2\n",
        "# Replace None with appropriate code\n",
        "\n",
        "df['Release Clause'] = df['Release Clause'].astype(float)\n",
        "df['Release Clause'] = df['Release Clause'] * 1.2"
      ]
    },
    {
      "cell_type": "markdown",
      "metadata": {
        "nbgrader": {
          "grade": false,
          "grade_id": "cell-e9a1540ffff85098",
          "locked": true,
          "schema_version": 3,
          "solution": false,
          "task": false
        },
        "id": "Ig2VDtBHSUd0"
      },
      "source": [
        "### 1.3) Drop rows from `df` with missing values for the `'Release Clause'` feature.\n",
        "    \n",
        "Make sure that `df` remains the name of the dataset with the dropped rows."
      ]
    },
    {
      "cell_type": "code",
      "source": [
        "df = df.dropna(subset=['Release Clause'])"
      ],
      "metadata": {
        "id": "AeVTxNkpU_mh"
      },
      "execution_count": 27,
      "outputs": []
    },
    {
      "cell_type": "code",
      "execution_count": 28,
      "metadata": {
        "id": "TCmX-prYSUd0"
      },
      "outputs": [],
      "source": [
        "# CodeGrade step1.3\n",
        "# Replace None with appropriate code\n",
        "\n",
        "df = df.dropna(subset=['Release Clause'])"
      ]
    },
    {
      "cell_type": "code",
      "source": [
        "df.shape"
      ],
      "metadata": {
        "colab": {
          "base_uri": "https://localhost:8080/"
        },
        "id": "8X_ETewiVsY5",
        "outputId": "276b16ca-0db0-4569-81af-46ab36bab752"
      },
      "execution_count": 29,
      "outputs": [
        {
          "output_type": "execute_result",
          "data": {
            "text/plain": [
              "(16643, 88)"
            ]
          },
          "metadata": {},
          "execution_count": 29
        }
      ]
    },
    {
      "cell_type": "code",
      "execution_count": 30,
      "metadata": {
        "id": "DfHE7ZXZSUd1"
      },
      "outputs": [],
      "source": [
        "# This test confirms that your dataset has the correct number of observations after dropping\n",
        "\n",
        "assert df['Release Clause'].shape[0] == 16643"
      ]
    },
    {
      "cell_type": "markdown",
      "metadata": {
        "nbgrader": {
          "grade": false,
          "grade_id": "cell-be6ad3929cc953e5",
          "locked": true,
          "schema_version": 3,
          "solution": false,
          "task": false
        },
        "id": "BrzRiZg-SUd1"
      },
      "source": [
        "### 1.4) Create a list `top_10_countries` containing the names of the 10 countries with the most players (using the `'Nationality'` column).\n",
        "\n",
        "Hint: Your answer should include England, Germany, Spain, France, and Argentina"
      ]
    },
    {
      "cell_type": "code",
      "source": [
        "top_10_countries = df['Nationality'].value_counts().head(10).index.tolist()\n",
        "top_10_countries"
      ],
      "metadata": {
        "colab": {
          "base_uri": "https://localhost:8080/"
        },
        "id": "iZ42lKcfV0HV",
        "outputId": "14ba1737-a92c-4603-d515-27a1f2cf8e11"
      },
      "execution_count": 31,
      "outputs": [
        {
          "output_type": "execute_result",
          "data": {
            "text/plain": [
              "['England',\n",
              " 'Germany',\n",
              " 'Spain',\n",
              " 'France',\n",
              " 'Argentina',\n",
              " 'Brazil',\n",
              " 'Italy',\n",
              " 'Colombia',\n",
              " 'Japan',\n",
              " 'Netherlands']"
            ]
          },
          "metadata": {},
          "execution_count": 31
        }
      ]
    },
    {
      "cell_type": "code",
      "execution_count": 32,
      "metadata": {
        "nbgrader": {
          "grade": false,
          "grade_id": "cell-a33121d22f5d8535",
          "locked": true,
          "schema_version": 3,
          "solution": false,
          "task": false
        },
        "id": "kTgwKoZ6SUd1"
      },
      "outputs": [],
      "source": [
        "# CodeGrade step1.4\n",
        "# Replace None with appropriate code\n",
        "\n",
        "top_10_countries = df['Nationality'].value_counts().head(10).index.tolist()"
      ]
    },
    {
      "cell_type": "code",
      "execution_count": 33,
      "metadata": {
        "id": "DwGToutGSUd2"
      },
      "outputs": [],
      "source": [
        "# This test confirms that you have created a list named top_10_countries\n",
        "\n",
        "assert type(top_10_countries) == list\n",
        "\n",
        "# This test confirms that top_10_countries contains England, Germany, Spain, France, and Argentina\n",
        "\n",
        "assert set(['England', 'Germany', 'Spain', 'France', 'Argentina']).issubset(set(top_10_countries))"
      ]
    },
    {
      "cell_type": "markdown",
      "metadata": {
        "nbgrader": {
          "grade": false,
          "grade_id": "cell-f9d5841f356a5a8a",
          "locked": true,
          "schema_version": 3,
          "solution": false,
          "task": false
        },
        "id": "E4KCHW82SUd2"
      },
      "source": [
        "## Part 2: Data Visualization [Suggested Time: 20 minutes]\n",
        "This part uses the same FIFA dataset, and asks you to plot data using `matplotlib`."
      ]
    },
    {
      "cell_type": "code",
      "execution_count": 34,
      "metadata": {
        "nbgrader": {
          "grade": false,
          "grade_id": "cell-0b27595ca9348a59",
          "locked": true,
          "schema_version": 3,
          "solution": false,
          "task": false
        },
        "id": "NZO9ZnVmSUd2"
      },
      "outputs": [],
      "source": [
        "# Run this cell without changes\n",
        "\n",
        "import matplotlib\n",
        "import matplotlib.pyplot as plt"
      ]
    },
    {
      "cell_type": "markdown",
      "metadata": {
        "nbgrader": {
          "grade": false,
          "grade_id": "cell-112f61d031df8fca",
          "locked": true,
          "schema_version": 3,
          "solution": false,
          "task": false
        },
        "id": "G_O9AnnhSUd2"
      },
      "source": [
        "### 2.1) Create a matplotlib figure `player_count_figure` containing a labeled bar chart with the number of players from England, Germany, Spain, France, and Argentina\n",
        "\n",
        "Use the strings provided below (`bar_chart_title`, `bar_chart_count_label`, and `bar_chart_series_label`) to title and label your bar chart.\n",
        "\n",
        "Hint: These are the countries with the top 5 numbers of players, so you may be able to adapt some of the code you used for question 1.4. If you were unable to complete 1.4, use the following values:\n",
        "\n",
        "```\n",
        "Country Name  | Num Players\n",
        "============  | ===========\n",
        "England       | 1000\n",
        "Germany       | 900\n",
        "Spain         | 800\n",
        "France        | 700\n",
        "Argentina     | 600\n",
        "```"
      ]
    },
    {
      "cell_type": "code",
      "execution_count": 36,
      "metadata": {
        "colab": {
          "base_uri": "https://localhost:8080/",
          "height": 581
        },
        "id": "W8_D6dvgSUd3",
        "outputId": "a395e88c-bbdb-4713-ee1c-cf87f40757ea"
      },
      "outputs": [
        {
          "output_type": "execute_result",
          "data": {
            "text/plain": [
              "Text(0, 0.5, 'Number of Players')"
            ]
          },
          "metadata": {},
          "execution_count": 36
        },
        {
          "output_type": "display_data",
          "data": {
            "text/plain": [
              "<Figure size 1000x600 with 1 Axes>"
            ],
            "image/png": "[encoded data removed]"
          },
          "metadata": {}
        }
      ],
      "source": [
        "# CodeGrade step2.1\n",
        "# Replace None with appropriate code\n",
        "\n",
        "bar_chart_countries = ['England', 'Germany', 'Spain', 'France', 'Argentina']\n",
        "\n",
        "bar_chart_title = '5 Countries with the Most Players'\n",
        "bar_chart_count_label = 'Number of Players'\n",
        "bar_chart_series_label = 'Nationality'\n",
        "\n",
        "\n",
        "\n",
        "top_5_countries = [1000, 900, 800, 700, 600]\n",
        "\n",
        "player_count_figure, ax = plt.subplots(figsize=(10, 6))\n",
        "\n",
        "\n",
        "x = bar_chart_countries\n",
        "heights = top_5_countries\n",
        "\n",
        "ax.bar(x, heights)\n",
        "# title\n",
        "ax.set_title(bar_chart_title)\n",
        "# x-axis label\n",
        "ax.set_xlabel('Nationality')\n",
        "# y-axis label\n",
        "ax.set_ylabel('Number of Players')\n",
        "\n",
        "# y-axis label\n",
        "ax.set_ylabel('Number of Players')\n"
      ]
    },
    {
      "cell_type": "code",
      "execution_count": 37,
      "metadata": {
        "id": "Wb9wuXrTSUd3"
      },
      "outputs": [],
      "source": [
        "# This test confirms that you have created a figure named player_count_figure\n",
        "\n",
        "assert type(player_count_figure) == plt.Figure\n",
        "\n",
        "# This test confirms that the figure contains exactly one axis\n",
        "\n",
        "assert len(player_count_figure.axes) == 1"
      ]
    },
    {
      "cell_type": "code",
      "execution_count": 38,
      "metadata": {
        "id": "uummh4j9SUd3"
      },
      "outputs": [],
      "source": [
        "# These tests confirm that the figure has a title and axis labels\n",
        "\n",
        "assert player_count_figure.axes[0].get_title() != ''\n",
        "assert player_count_figure.axes[0].get_ylabel() != ''\n",
        "assert player_count_figure.axes[0].get_xlabel() != ''"
      ]
    },
    {
      "cell_type": "markdown",
      "metadata": {
        "nbgrader": {
          "grade": false,
          "grade_id": "cell-70190139727d20a2",
          "locked": true,
          "schema_version": 3,
          "solution": false,
          "task": false
        },
        "id": "mc1L1AMSSUd4"
      },
      "source": [
        "### 2.2) Create a matplotlib figure `tackle_figure` containing a labeled scatter plot visualizing the relationship between `StandingTackle` (on X axis) and `SlidingTackle` (on Y axis)\n",
        "\n",
        "Use the strings provided below (`scatter_plot_title`, `standing_tackle_label`, and `sliding_tackle_label`) to title and label your scatter plot."
      ]
    },
    {
      "cell_type": "code",
      "execution_count": 40,
      "metadata": {
        "nbgrader": {
          "grade": false,
          "grade_id": "cell-064cad4a79f53237",
          "locked": false,
          "schema_version": 3,
          "solution": true,
          "task": false
        },
        "colab": {
          "base_uri": "https://localhost:8080/",
          "height": 581
        },
        "id": "2H-Dnu8QSUd4",
        "outputId": "1ffa9ccb-efbe-42f9-ed19-3fc45a28558b"
      },
      "outputs": [
        {
          "output_type": "execute_result",
          "data": {
            "text/plain": [
              "Text(0, 0.5, 'Sliding Tackles')"
            ]
          },
          "metadata": {},
          "execution_count": 40
        },
        {
          "output_type": "display_data",
          "data": {
            "text/plain": [
              "<Figure size 1000x600 with 1 Axes>"
            ],
            "image/png": "[encoded data removed]"
          },
          "metadata": {}
        }
      ],
      "source": [
        "# CodeGrade step2.2\n",
        "\n",
        "scatter_plot_title = 'Relationship Between Standing Tackles and Sliding Tackles'\n",
        "standing_tackle_label = 'Standing Tackles'\n",
        "sliding_tackle_label = 'Sliding Tackles'\n",
        "\n",
        "tackle_figure, ax = plt.subplots(figsize=(10, 6))\n",
        "\n",
        "# Your code here\n",
        "ax.scatter(df['StandingTackle'], df['SlidingTackle'])\n",
        "# title\n",
        "ax.set_title('Relationship Between Standing Tackles and Sliding Tackles')\n",
        "# x-axis label\n",
        "ax.set_xlabel('Standing Tackles')\n",
        "# y-axis label\n",
        "ax.set_ylabel('Sliding Tackles')\n",
        "# x-axis label\n",
        "ax.set_xlabel('Standing Tackles')\n",
        "# y-axis label\n",
        "ax.set_ylabel('Sliding Tackles')"
      ]
    },
    {
      "cell_type": "code",
      "execution_count": 41,
      "metadata": {
        "id": "LYmtScBpSUd4"
      },
      "outputs": [],
      "source": [
        "# This test confirms that you have created a figure named tackle_figure\n",
        "\n",
        "assert type(tackle_figure) == plt.Figure\n",
        "\n",
        "# This test confirms that the figure contains exactly one axis\n",
        "\n",
        "assert len(tackle_figure.axes) == 1"
      ]
    },
    {
      "cell_type": "markdown",
      "metadata": {
        "nbgrader": {
          "grade": false,
          "grade_id": "cell-d6d6af6c94216981",
          "locked": true,
          "schema_version": 3,
          "solution": false,
          "task": false
        },
        "id": "o77ROcYdSUd4"
      },
      "source": [
        "## Part 3: Exploring Statistical Data [Suggested Time: 20 minutes]\n",
        "This part does some exploratory analysis using the same FIFA dataset."
      ]
    },
    {
      "cell_type": "markdown",
      "metadata": {
        "nbgrader": {
          "grade": false,
          "grade_id": "cell-1f6263e9b6ccbe48",
          "locked": true,
          "schema_version": 3,
          "solution": false,
          "task": false
        },
        "id": "qE2P34AmSUd5"
      },
      "source": [
        "### 3.1) Create numeric variables `mean_age` and `median_age` containing the mean and median player ages (respectively)."
      ]
    },
    {
      "cell_type": "code",
      "source": [
        "mean_age = df['Age'].mean()\n",
        "median_age = df['Age'].median()"
      ],
      "metadata": {
        "id": "l1sYy33Fb9BI"
      },
      "execution_count": 42,
      "outputs": []
    },
    {
      "cell_type": "code",
      "execution_count": 44,
      "metadata": {
        "nbgrader": {
          "grade": false,
          "grade_id": "cell-8182a47b74d8308c",
          "locked": true,
          "schema_version": 3,
          "solution": false,
          "task": false
        },
        "id": "C7qgjgDVSUd5"
      },
      "outputs": [],
      "source": [
        "# CodeGrade step3.1\n",
        "# Replace None with appropriate code\n",
        "\n",
        "mean_age = df['Age'].mean()\n",
        "median_age = df['Age'].median()"
      ]
    },
    {
      "cell_type": "code",
      "execution_count": 45,
      "metadata": {
        "id": "suGrH5G4SUd5"
      },
      "outputs": [],
      "source": [
        "# These tests confirm that you have created numeric variables named mean_age and median_age\n",
        "\n",
        "assert isinstance(mean_age, Number)\n",
        "assert isinstance(median_age, Number)"
      ]
    },
    {
      "cell_type": "markdown",
      "metadata": {
        "nbgrader": {
          "grade": false,
          "grade_id": "cell-53c00926ddd0e281",
          "locked": true,
          "schema_version": 3,
          "solution": false,
          "task": false
        },
        "id": "U3eKvtnVSUd5"
      },
      "source": [
        "### 3.2) Create a string variable `oldest_argentine_name` and a numeric variable `oldest_argentine_age` containing the name and age (respectively) of the oldest player with Argentina nationality."
      ]
    },
    {
      "cell_type": "code",
      "source": [
        "argentines = df[df['Nationality'] == 'Argentina']\n",
        "oldest_argentine = argentines[argentines['Age'] == argentines['Age'].max()]\n",
        "oldest_argentine\n",
        "oldest_argentine_name = oldest_argentine['Name'].values[0]\n",
        "oldest_argentine_age = oldest_argentine['Age'].values[0]"
      ],
      "metadata": {
        "id": "Y3MSoCzkcHig"
      },
      "execution_count": 47,
      "outputs": []
    },
    {
      "cell_type": "code",
      "execution_count": 48,
      "metadata": {
        "nbgrader": {
          "grade": false,
          "grade_id": "cell-8a8f465bb935cc1a",
          "locked": true,
          "schema_version": 3,
          "solution": false,
          "task": false
        },
        "id": "noflThCnSUd5"
      },
      "outputs": [],
      "source": [
        "# CodeGrade step3.2\n",
        "# Replace None with appropriate code\n",
        "\n",
        "argentines = df[df['Nationality'] == 'Argentina']\n",
        "oldest_argentine_name = oldest_argentine['Name'].values[0]\n",
        "oldest_argentine_age = oldest_argentine['Age'].values[0]"
      ]
    },
    {
      "cell_type": "code",
      "execution_count": 49,
      "metadata": {
        "id": "9_KxhP_VSUd5"
      },
      "outputs": [],
      "source": [
        "# This test confirms that you have created a string variable named oldest_argentine_name\n",
        "\n",
        "assert type(oldest_argentine_name) == str\n",
        "\n",
        "# This test confirms that you have created a numeric variable named oldest_argentine_age\n",
        "\n",
        "assert isinstance(oldest_argentine_age, Number)"
      ]
    },
    {
      "cell_type": "markdown",
      "metadata": {
        "nbgrader": {
          "grade": false,
          "grade_id": "cell-a7ce98ae6d482777",
          "locked": true,
          "schema_version": 3,
          "solution": false,
          "task": false
        },
        "id": "oGx_-Fs3SUd6"
      },
      "source": [
        "## Part 4: Python Data Structures [Suggested Time: 20 min]\n",
        "\n",
        "Below is a dictionary `players` with information about soccer players. The keys are player names and the values are dictionaries containing each player's age, nationality, and a list of teams they have played for."
      ]
    },
    {
      "cell_type": "code",
      "execution_count": 50,
      "metadata": {
        "nbgrader": {
          "grade": false,
          "grade_id": "cell-aeec0f73b4c2686e",
          "locked": true,
          "schema_version": 3,
          "solution": false,
          "task": false
        },
        "id": "JHLRPwlkSUd6"
      },
      "outputs": [],
      "source": [
        "# Run this cell without changes\n",
        "\n",
        "players = {\n",
        "    'L. Messi': {\n",
        "        'age': 31,\n",
        "        'nationality': 'Argentina',\n",
        "        'teams': ['Barcelona']\n",
        "    },\n",
        "    'Cristiano Ronaldo': {\n",
        "        'age': 33,\n",
        "        'nationality': 'Portugal',\n",
        "        'teams': ['Juventus', 'Real Madrid', 'Manchester United']\n",
        "    },\n",
        "    'Neymar Jr': {\n",
        "        'age': 26,\n",
        "        'nationality': 'Brazil',\n",
        "        'teams': ['Santos', 'Barcelona', 'Paris Saint-German']\n",
        "    },\n",
        "    'De Gea': {\n",
        "        'age': 27,\n",
        "        'nationality': 'Spain',\n",
        "        'teams': ['Atletico Madrid', 'Manchester United']\n",
        "    },\n",
        "    'K. De Bruyne': {\n",
        "        'age': 27,\n",
        "        'nationality': 'Belgium',\n",
        "        'teams': ['Chelsea', 'Manchester City']\n",
        "    }\n",
        "}"
      ]
    },
    {
      "cell_type": "markdown",
      "metadata": {
        "nbgrader": {
          "grade": false,
          "grade_id": "cell-c53443152551683e",
          "locked": true,
          "schema_version": 3,
          "solution": false,
          "task": false
        },
        "id": "a2f367ARSUd6"
      },
      "source": [
        "### 4.1) Create a list `player_names` of all the player names in dictionary `players`."
      ]
    },
    {
      "cell_type": "code",
      "source": [
        "player_names = list(players.keys())\n",
        "player_names"
      ],
      "metadata": {
        "colab": {
          "base_uri": "https://localhost:8080/"
        },
        "id": "pmgiQjn7dQNa",
        "outputId": "d423e926-cc70-4d6e-de79-3218697a868d"
      },
      "execution_count": 51,
      "outputs": [
        {
          "output_type": "execute_result",
          "data": {
            "text/plain": [
              "['L. Messi', 'Cristiano Ronaldo', 'Neymar Jr', 'De Gea', 'K. De Bruyne']"
            ]
          },
          "metadata": {},
          "execution_count": 51
        }
      ]
    },
    {
      "cell_type": "code",
      "execution_count": 52,
      "metadata": {
        "nbgrader": {
          "grade": false,
          "grade_id": "cell-59b73bc797a324dd",
          "locked": true,
          "schema_version": 3,
          "solution": false,
          "task": false
        },
        "id": "aPCqpqaFSUd6"
      },
      "outputs": [],
      "source": [
        "# CodeGrade step4.1\n",
        "# Replace None with appropriate code\n",
        "\n",
        "player_names = list(players.keys())"
      ]
    },
    {
      "cell_type": "code",
      "execution_count": 53,
      "metadata": {
        "id": "sHJJ5PTVSUd6"
      },
      "outputs": [],
      "source": [
        "# This test confirms that you have created a list named player_names\n",
        "\n",
        "assert type(player_names) == list"
      ]
    },
    {
      "cell_type": "markdown",
      "metadata": {
        "nbgrader": {
          "grade": false,
          "grade_id": "cell-b9f6a94ed0a0865e",
          "locked": true,
          "schema_version": 3,
          "solution": false,
          "task": false
        },
        "id": "7xMjO-dkSUd7"
      },
      "source": [
        "### 4.2) Create a list of tuples `player_nationalities` containing each player's name along with their nationality."
      ]
    },
    {
      "cell_type": "code",
      "source": [
        "player_nationalities = [(player, players[player]['nationality']) for player in players]\n",
        "player_nationalities"
      ],
      "metadata": {
        "colab": {
          "base_uri": "https://localhost:8080/"
        },
        "id": "8VTmAtjsdbL2",
        "outputId": "c7455cd6-0afe-4e5b-a129-6533288c65b2"
      },
      "execution_count": 54,
      "outputs": [
        {
          "output_type": "execute_result",
          "data": {
            "text/plain": [
              "[('L. Messi', 'Argentina'),\n",
              " ('Cristiano Ronaldo', 'Portugal'),\n",
              " ('Neymar Jr', 'Brazil'),\n",
              " ('De Gea', 'Spain'),\n",
              " ('K. De Bruyne', 'Belgium')]"
            ]
          },
          "metadata": {},
          "execution_count": 54
        }
      ]
    },
    {
      "cell_type": "code",
      "execution_count": 55,
      "metadata": {
        "nbgrader": {
          "grade": false,
          "grade_id": "cell-b52f98d5a617ecee",
          "locked": true,
          "schema_version": 3,
          "solution": false,
          "task": false
        },
        "id": "Rch-81kPSUd7"
      },
      "outputs": [],
      "source": [
        "# CodeGrade step4.2\n",
        "# Replace None with appropriate code\n",
        "\n",
        "player_nationalities = [(player, players[player]['nationality']) for player in players]"
      ]
    },
    {
      "cell_type": "code",
      "execution_count": 56,
      "metadata": {
        "id": "tD_ZDHqdSUd7"
      },
      "outputs": [],
      "source": [
        "# This test confirms that you have created a list named player_nationalities\n",
        "\n",
        "assert type(player_nationalities) == list"
      ]
    },
    {
      "cell_type": "markdown",
      "metadata": {
        "nbgrader": {
          "grade": false,
          "grade_id": "cell-87a014f4e268c1d7",
          "locked": true,
          "schema_version": 3,
          "solution": false,
          "task": false
        },
        "id": "lbFT63m7SUd7"
      },
      "source": [
        "### 4.3) Define a function `get_players_on_team()` that returns a list of names of all the players who have played on a given team.\n",
        "\n",
        "Your function should take two arguments:\n",
        "\n",
        "- A dictionary of player information\n",
        "- A string containing a team name (for which you are trying to find the player names)"
      ]
    },
    {
      "cell_type": "code",
      "source": [
        "def get_players_on_team(player_dict, team_name):\n",
        "    player_list = []\n",
        "    for player, info in player_dict.items():\n",
        "        if team_name in info['teams']:\n",
        "            player_list.append(player)\n",
        "    return player_list"
      ],
      "metadata": {
        "id": "zH7e2Okvdsa2"
      },
      "execution_count": 57,
      "outputs": []
    },
    {
      "cell_type": "code",
      "execution_count": 58,
      "metadata": {
        "nbgrader": {
          "grade": false,
          "grade_id": "cell-9546ae6235a3a164",
          "locked": true,
          "schema_version": 3,
          "solution": false,
          "task": false
        },
        "id": "SrOVrdXZSUeB"
      },
      "outputs": [],
      "source": [
        "# CodeGrade step4.3\n",
        "\n",
        "def get_players_on_team(player_dict, team_name):\n",
        "    player_list = []\n",
        "\n",
        "    # Your code here\n",
        "    for player, info in player_dict.items():\n",
        "        if team_name in info['teams']:\n",
        "            player_list.append(player)\n",
        "    return player_list"
      ]
    },
    {
      "cell_type": "code",
      "execution_count": 59,
      "metadata": {
        "id": "C1mbTNESSUeC"
      },
      "outputs": [],
      "source": [
        "# This test confirms that get_players_on_team() returns the right names for Manchester United\n",
        "\n",
        "manchester_united_players = ['Cristiano Ronaldo', 'De Gea']\n",
        "players_on_manchester_united = get_players_on_team(players, 'Manchester United')\n",
        "\n",
        "assert players_on_manchester_united == manchester_united_players"
      ]
    }
  ],
  "metadata": {
    "celltoolbar": "Create Assignment",
    "kernelspec": {
      "display_name": "Python (learn-env)",
      "language": "python",
      "name": "learn-env"
    },
    "language_info": {
      "codemirror_mode": {
        "name": "ipython",
        "version": 3
      },
      "file_extension": ".py",
      "mimetype": "text/x-python",
      "name": "python",
      "nbconvert_exporter": "python",
      "pygments_lexer": "ipython3",
      "version": "3.8.5"
    },
    "colab": {
      "provenance": [],
      "include_colab_link": true
    }
  },
  "nbformat": 4,
  "nbformat_minor": 0
}